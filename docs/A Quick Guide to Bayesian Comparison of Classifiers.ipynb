{
 "cells": [
  {
   "cell_type": "markdown",
   "metadata": {},
   "source": [
    "# Data\n",
    "\n",
    "The data that we will use for demonstration contains classification accuracies (in percents) of 5 learning algorithms ran on 54 data sets tested with 10 repetitions of 10-fold cross validation. The presented functions would work on other performance scores, too. The correlated t-test (comparison of two classifiers on a single data set) assumes that the data was collected using cross validation; repeating it 10 times is not necessary. The sign rank test (two classifiers on multiple data set) does not require scores from cross validation.\n",
    "\n",
    "We will use a simple module `data` with a function `get_data` to retrieve the data. Its first argument is a name of a classifier or a list of names. The second argument is a name of a data set or a list of names; if the argument omitted, we get the data for all data sets. For instance `data.get_data(\"nbc\", \"sonar\")` returns the performance of classifier *nbc* on 10 runs of 10-fold cross validation, that is, an array with 100 numbers. `data.get_data(\"nbc\")` returns a 54x100 array with results for all 54 data sets.\n",
    "\n",
    "An optional argument `aggregate` can be set to `True` to compute the average performance for each dataset. `data.get_data(\"nbc\", \"sonar\", aggregate=True)` returns a single number, and `data.get_data(\"nbc\", aggregate=True)` returns an array with 54 numbers, that is average performance of *nbc* on 54 data sets.\n",
    "\n",
    "Further details and examples for those who may find this function useful for their work are described at the end of the guide. They are not necessary for following the guide, though."
   ]
  },
  {
   "cell_type": "markdown",
   "metadata": {},
   "source": [
    "# Comparison of two classifiers on a single data set\n",
    "\n"
   ]
  },
  {
   "cell_type": "markdown",
   "metadata": {},
   "source": [
    "Two classifiers can be compared on a single dataset by using a correlated t-test, `correlated_t(x, y, rope=0, runs=1)`. Arguments `x` and `y` contain the scores of the two classifiers measured by cross validation. If `y` is omitted, `x` must contain the differences. If cross validation is run multiple times, set the `runs` argument accordingly.\n",
    "\n",
    "The function uses Bayesian interpretation of the p-value to compute and return the probabilities that `x` is better than `y`, and the opposite. See [A Bayesian approach for comparing cross-validated algorithms on multiple data sets](http://link.springer.com/article/10.1007%2Fs10994-015-5486-z>) (G. Corani and A. Benavoli, Mach Learning 2015) for details.\n",
    "\n",
    "For convenience, function `correlated_t` can also be called as `two_on_single`."
   ]
  },
  {
   "cell_type": "markdown",
   "metadata": {},
   "source": [
    "Let us compare the performance of *nbc* and *aode* on *sonar*."
   ]
  },
  {
   "cell_type": "code",
   "execution_count": 1,
   "metadata": {},
   "outputs": [
    {
     "data": {
      "text/plain": [
       "array([ 94.203,  92.754,  95.652,  91.176,  92.647,  91.176,  92.647,\n",
       "        92.647,  86.765,  91.176,  91.304,  94.203,  88.406,  98.529,\n",
       "        95.588,  97.059,  91.176,  89.706,  85.294,  89.706,  97.101,\n",
       "        92.754,  94.203,  92.647,  92.647,  91.176,  88.235,  97.059,\n",
       "        94.118,  88.235,  92.754,  95.652,  89.855,  94.118,  88.235,\n",
       "        91.176,  94.118,  92.647,  94.118,  91.176,  91.304,  88.406,\n",
       "        91.304,  92.647,  91.176,  85.294,  92.647,  97.059,  92.647,\n",
       "        95.588,  84.058,  97.101,  94.203,  95.588,  91.176,  92.647,\n",
       "        92.647,  91.176,  89.706,  89.706,  89.855,  92.754,  91.304,\n",
       "        94.118,  89.706,  92.647,  91.176,  98.529,  86.765,  95.588,\n",
       "        91.304,  92.754,  97.101,  94.118,  86.765,  98.529,  91.176,\n",
       "        82.353,  94.118,  97.059,  88.406,  86.957,  91.304,  94.118,\n",
       "        97.059,  92.647,  92.647,  89.706,  92.647,  94.118,  94.203,\n",
       "        94.203,  92.754,  95.588,  89.706,  88.235,  94.118,  94.118,\n",
       "        88.235,  91.176])"
      ]
     },
     "execution_count": 1,
     "metadata": {},
     "output_type": "execute_result"
    }
   ],
   "source": [
    "import data\n",
    "\n",
    "nbc = data.get_data(\"nbc\", \"sonar\")\n",
    "aode = data.get_data(\"aode\", \"sonar\")\n",
    "nbc"
   ]
  },
  {
   "cell_type": "markdown",
   "metadata": {},
   "source": [
    "`nbc` and `aode` thus contain data on 10 repetitions of 10-fold cross validation."
   ]
  },
  {
   "cell_type": "code",
   "execution_count": 2,
   "metadata": {},
   "outputs": [
    {
     "data": {
      "text/plain": [
       "92.195820000000026"
      ]
     },
     "execution_count": 2,
     "metadata": {},
     "output_type": "execute_result"
    }
   ],
   "source": [
    "import numpy as np\n",
    "\n",
    "np.mean(nbc)"
   ]
  },
  {
   "cell_type": "code",
   "execution_count": 3,
   "metadata": {},
   "outputs": [
    {
     "data": {
      "text/plain": [
       "93.308150000000026"
      ]
     },
     "execution_count": 3,
     "metadata": {},
     "output_type": "execute_result"
    }
   ],
   "source": [
    "np.mean(aode)"
   ]
  },
  {
   "cell_type": "markdown",
   "metadata": {},
   "source": [
    "*aode* is better than *nbc* - on these samples. But what is the probability that is better (on this data) in general?"
   ]
  },
  {
   "cell_type": "code",
   "execution_count": 4,
   "metadata": {},
   "outputs": [
    {
     "data": {
      "text/plain": [
       "(0.024471493163386815, 0.97552850683661319)"
      ]
     },
     "execution_count": 4,
     "metadata": {},
     "output_type": "execute_result"
    }
   ],
   "source": [
    "import baycomp\n",
    "\n",
    "baycomp.two_on_single(nbc, aode, runs=10)"
   ]
  },
  {
   "cell_type": "markdown",
   "metadata": {},
   "source": [
    "We set `runs=10` because we repeated the cross validation ten times. If you run it just once, skip the argument.\n",
    "\n",
    "So, there is a 97.5 % probability that *aode* is better than *nbc*. Yet, performances of the two models are however rather close: 92.2 vs. 93.3. What is the probability that although *aode* is better, the actual difference is practically insignificant?\n",
    "\n",
    "The function has one more argument, `rope`, which defines the *region of practical equivalence*. Say that we would dismiss the difference below 0.5 as negligible. If we add an argument `rope=0.5`, the function will return a triplet instead of a tuple: the probability that *nbc* is better by more than 0.5, the probability that none of the two outperforms the other by more than 0.5, and the probability that *aode* is better by more than 0.5."
   ]
  },
  {
   "cell_type": "code",
   "execution_count": 5,
   "metadata": {},
   "outputs": [
    {
     "data": {
      "text/plain": [
       "(0.0023685180162288377, 0.13517773046085313, 0.86245375152291803)"
      ]
     },
     "execution_count": 5,
     "metadata": {},
     "output_type": "execute_result"
    }
   ],
   "source": [
    "baycomp.two_on_single(nbc, aode, runs=10, rope=0.5)"
   ]
  },
  {
   "cell_type": "markdown",
   "metadata": {},
   "source": [
    "There is a 13.5 % probability that the performances of the two methods differ by less than 0.5.\n",
    "\n",
    "Note that `rope` is given in the same units as `x` and `y`. If `x` and `y` express the classification accuracy in percents, that is, on the scale from 0 to 100, `rope` is on the same scale. If classification accuracy was on the scale from 0 to 1, the equivalent `rope` would be 0.005. For, for instances, AUC, `rope` would specify the negligible difference in AUCs.\n",
    "\n",
    "Now, let us see these results graphically. Function `plot_posterior_t` accepts the same arguments as above, and, optionally, the names of the two classifiers, so it can show their names under the plot."
   ]
  },
  {
   "cell_type": "code",
   "execution_count": 6,
   "metadata": {},
   "outputs": [
    {
     "data": {
      "image/png": "[encoded data removed]",
      "text/plain": [
       "<matplotlib.figure.Figure at 0x119e3fb70>"
      ]
     },
     "metadata": {},
     "output_type": "display_data"
    }
   ],
   "source": [
    "%matplotlib inline\n",
    "\n",
    "fig = baycomp.plot_posterior_t(nbc, aode, runs=10, rope=0.5, names=(\"nbc\", \"aode\"))"
   ]
  },
  {
   "cell_type": "markdown",
   "metadata": {},
   "source": [
    "Most of the probability mass is on the right side, where *aode* is better. The rest of the mass is in the rope.\n",
    "\n",
    "We can play with other classifiers and datasets, too."
   ]
  },
  {
   "cell_type": "code",
   "execution_count": 7,
   "metadata": {},
   "outputs": [
    {
     "data": {
      "text/plain": [
       "(0.51556747093391908, 0.37032204786414769, 0.11411048120193321)"
      ]
     },
     "execution_count": 7,
     "metadata": {},
     "output_type": "execute_result"
    }
   ],
   "source": [
    "classifiers = (\"j48\", \"aode\")\n",
    "x, y = data.get_data(classifiers, \"iris\")\n",
    "baycomp.two_on_single(x, y, runs=10, rope=0.5)"
   ]
  },
  {
   "cell_type": "code",
   "execution_count": 8,
   "metadata": {
    "scrolled": true
   },
   "outputs": [
    {
     "data": {
      "image/png": "[encoded data removed]",
      "text/plain": [
       "<matplotlib.figure.Figure at 0x11f12a160>"
      ]
     },
     "metadata": {},
     "output_type": "display_data"
    }
   ],
   "source": [
    "fig = baycomp.plot_posterior_t(x, y, runs=10, rope=0.5, names=classifiers)"
   ]
  },
  {
   "cell_type": "markdown",
   "metadata": {},
   "source": [
    "# Comparison of two classifiers on multiple data sets"
   ]
  },
  {
   "cell_type": "markdown",
   "metadata": {},
   "source": [
    "The sign test does not take into account the variance across runs of cross validation, so we will need mean performances for each data sets."
   ]
  },
  {
   "cell_type": "code",
   "execution_count": 9,
   "metadata": {},
   "outputs": [],
   "source": [
    "nbc, aode = data.get_data((\"nbc\", \"aode\"), aggregate=True)"
   ]
  },
  {
   "cell_type": "markdown",
   "metadata": {},
   "source": [
    "The two arrays now contain the average performance of *nbc* and *aode* across all 54 data sets."
   ]
  },
  {
   "cell_type": "code",
   "execution_count": 10,
   "metadata": {},
   "outputs": [
    {
     "data": {
      "text/plain": [
       "array([ 95.94595,  71.39521,  83.3377 ,  49.98591,  76.16673,  86.21744,\n",
       "        86.21744,  81.87252,  52.8114 ,  75.04   ,  71.93504,  50.12499,\n",
       "        72.03123,  60.     ,  83.6875 ,  84.36091,  98.31118,  89.40237,\n",
       "        93.33322,  87.79086,  87.59993,  56.84723,  85.09998,  62.66532,\n",
       "        74.63639,  96.38929,  95.76072,  90.29939,  92.16903,  93.37478,\n",
       "        80.41671,  87.72004,  75.26002,  68.11142,  47.19786,  91.14715,\n",
       "        85.59372,  86.62217,  93.81435,  76.71185,  92.19582,  89.82622,\n",
       "        79.21932,  95.41686,  59.03334,  62.06667,  46.32085,  58.78783,\n",
       "        79.968  ,  64.92861,  98.70582,  97.19638,  57.61428,  93.98181])"
      ]
     },
     "execution_count": 10,
     "metadata": {},
     "output_type": "execute_result"
    }
   ],
   "source": [
    "nbc"
   ]
  },
  {
   "cell_type": "code",
   "execution_count": 11,
   "metadata": {},
   "outputs": [
    {
     "data": {
      "text/plain": [
       "54"
      ]
     },
     "execution_count": 11,
     "metadata": {},
     "output_type": "execute_result"
    }
   ],
   "source": [
    "len(nbc)"
   ]
  },
  {
   "cell_type": "markdown",
   "metadata": {},
   "source": [
    "This array thus corresponds columns of tables that we usually see in papers, with classifiers in columns and data sets in rows.\n",
    "\n",
    "We compare performances of the two methods by function `signtest`, also called `two_on_multiple`. The function has arguments `x`, `y` and `rope`, which have the same meaning as above."
   ]
  },
  {
   "cell_type": "code",
   "execution_count": 12,
   "metadata": {},
   "outputs": [
    {
     "data": {
      "text/plain": [
       "(0.0, 1.0)"
      ]
     },
     "execution_count": 12,
     "metadata": {},
     "output_type": "execute_result"
    }
   ],
   "source": [
    "baycomp.two_on_multiple(nbc, aode)"
   ]
  },
  {
   "cell_type": "markdown",
   "metadata": {},
   "source": [
    "*nbc* is just embarassingly worse. Let's take another pair instead. :)"
   ]
  },
  {
   "cell_type": "code",
   "execution_count": 13,
   "metadata": {},
   "outputs": [
    {
     "data": {
      "text/plain": [
       "(0.04462, 0.95538000000000001)"
      ]
     },
     "execution_count": 13,
     "metadata": {},
     "output_type": "execute_result"
    }
   ],
   "source": [
    "j48, aode = data.get_data((\"j48\", \"aode\"), aggregate=True)\n",
    "baycomp.two_on_multiple(j48, aode)"
   ]
  },
  {
   "cell_type": "markdown",
   "metadata": {},
   "source": [
    "And now for some `rope`. The meaning of `rope` here is different. XXXXXXX EXPLAIN XXXXX"
   ]
  },
  {
   "cell_type": "code",
   "execution_count": 14,
   "metadata": {},
   "outputs": [
    {
     "data": {
      "text/plain": [
       "(0.04496, 0.0054000000000000003, 0.94964000000000004)"
      ]
     },
     "execution_count": 14,
     "metadata": {},
     "output_type": "execute_result"
    }
   ],
   "source": [
    "baycomp.two_on_multiple(j48, aode, rope=0.5)"
   ]
  },
  {
   "cell_type": "markdown",
   "metadata": {},
   "source": [
    "The function has two more arguments.\n",
    "\n",
    "`prior` gives the strength of prior that is put on the rope region. Default is `1`. To put the prior on another region, specify it as a tuple, say `prior=(2, baycomp.LEFT)`.\n",
    "\n",
    "Let us put a (very strong) prior on J48."
   ]
  },
  {
   "cell_type": "code",
   "execution_count": 15,
   "metadata": {},
   "outputs": [
    {
     "data": {
      "text/plain": [
       "(0.21456, 0.0, 0.78544000000000003)"
      ]
     },
     "execution_count": 15,
     "metadata": {},
     "output_type": "execute_result"
    }
   ],
   "source": [
    "baycomp.two_on_multiple(j48, aode, rope=0.2, prior=(10, baycomp.LEFT))"
   ]
  },
  {
   "cell_type": "markdown",
   "metadata": {},
   "source": [
    "The function uses Monte Carlo sampling with a sample size of 50000. You can change this by setting the argument `nsamples`."
   ]
  },
  {
   "cell_type": "markdown",
   "metadata": {},
   "source": [
    "And now for visualization. Function `plot_posterior_sign` takes the same arguments as above, plus `names` that gives the names of the two methods."
   ]
  },
  {
   "cell_type": "code",
   "execution_count": 16,
   "metadata": {},
   "outputs": [
    {
     "data": {
      "image/png": "[encoded data removed]",
      "text/plain": [
       "<matplotlib.figure.Figure at 0x11f12a9e8>"
      ]
     },
     "metadata": {},
     "output_type": "display_data"
    }
   ],
   "source": [
    "classifiers = (\"j48\", \"aode\")\n",
    "fig = baycomp.plot_posterior_sign(j48, aode, names=classifiers)"
   ]
  },
  {
   "cell_type": "code",
   "execution_count": 17,
   "metadata": {},
   "outputs": [
    {
     "data": {
      "image/png": "[encoded data removed]",
      "text/plain": [
       "<matplotlib.figure.Figure at 0x11f283940>"
      ]
     },
     "metadata": {},
     "output_type": "display_data"
    }
   ],
   "source": [
    "fig = baycomp.plot_posterior_sign(j48, aode, rope=0.5, names=classifiers)"
   ]
  },
  {
   "cell_type": "code",
   "execution_count": 18,
   "metadata": {},
   "outputs": [
    {
     "data": {
      "image/png": "[encoded data removed]",
      "text/plain": [
       "<matplotlib.figure.Figure at 0x11f1b22b0>"
      ]
     },
     "metadata": {},
     "output_type": "display_data"
    }
   ],
   "source": [
    "fig = baycomp.plot_posterior_sign(j48, aode, rope=0.5, prior=(10, baycomp.LEFT), names=classifiers)"
   ]
  },
  {
   "cell_type": "markdown",
   "metadata": {},
   "source": [
    "# Technical details"
   ]
  },
  {
   "cell_type": "markdown",
   "metadata": {},
   "source": [
    "## Dependencies"
   ]
  },
  {
   "cell_type": "markdown",
   "metadata": {},
   "source": [
    "The module requires *numpy* and *scipy*.\n",
    "\n",
    "Plotting functions also need *matplotlib*. The module will attempt to import *seaborn* to enhance the visualizations."
   ]
  },
  {
   "cell_type": "markdown",
   "metadata": {},
   "source": [
    "## Test data\n",
    "\n",
    "For the purpose of this guide, we implemented a simple module `data` for loading the data with which we can play. Functions `get_classifiers()` and `get_datasets()` return the names of classifiers and data sets."
   ]
  },
  {
   "cell_type": "code",
   "execution_count": 19,
   "metadata": {},
   "outputs": [
    {
     "data": {
      "text/plain": [
       "['nbc', 'aode', 'hnb', 'j48', 'j48gr']"
      ]
     },
     "execution_count": 19,
     "metadata": {},
     "output_type": "execute_result"
    }
   ],
   "source": [
    "import data\n",
    "\n",
    "data.get_classifiers()"
   ]
  },
  {
   "cell_type": "code",
   "execution_count": 20,
   "metadata": {
    "scrolled": false
   },
   "outputs": [
    {
     "data": {
      "text/plain": [
       "['anneal',\n",
       " 'audiology',\n",
       " 'cleeland-14',\n",
       " 'cmc',\n",
       " 'contact-lenses',\n",
       " 'credit',\n",
       " 'credit',\n",
       " 'ecoli',\n",
       " 'eucalyptus',\n",
       " 'german-credit',\n",
       " 'glass',\n",
       " 'grub-damage',\n",
       " 'haberman',\n",
       " 'hayes-roth',\n",
       " 'hepatitis',\n",
       " 'hungarian-14',\n",
       " 'hypothyroid',\n",
       " 'ionosphere',\n",
       " 'iris',\n",
       " 'kr-s-kp',\n",
       " 'labor',\n",
       " 'lier-disorders',\n",
       " 'lymphography',\n",
       " 'monks',\n",
       " 'monks1',\n",
       " 'monks3',\n",
       " 'mushroom',\n",
       " 'nursery',\n",
       " 'optdigits',\n",
       " 'owel',\n",
       " 'page-blocks',\n",
       " 'pasture-production',\n",
       " 'pendigits',\n",
       " 'pima-diabetes',\n",
       " 'postoperatie',\n",
       " 'primary-tumor',\n",
       " 'segment',\n",
       " 'solar-flare-C',\n",
       " 'solar-flare-X',\n",
       " 'solar-flare-m',\n",
       " 'sonar',\n",
       " 'soybean',\n",
       " 'spambase',\n",
       " 'spect-reordered',\n",
       " 'splice',\n",
       " 'squash-stored',\n",
       " 'squash-unstored',\n",
       " 'tae',\n",
       " 'waveform',\n",
       " 'white-clover',\n",
       " 'wine',\n",
       " 'wisconsin-breast-cancer',\n",
       " 'yeast',\n",
       " 'zoo']"
      ]
     },
     "execution_count": 20,
     "metadata": {},
     "output_type": "execute_result"
    }
   ],
   "source": [
    "data.get_datasets()"
   ]
  },
  {
   "cell_type": "markdown",
   "metadata": {},
   "source": [
    "Method `get_data` gives us the actual data."
   ]
  },
  {
   "cell_type": "code",
   "execution_count": 21,
   "metadata": {
    "scrolled": true
   },
   "outputs": [
    {
     "data": {
      "text/plain": [
       "array([ 94.203,  92.754,  95.652,  91.176,  92.647,  91.176,  92.647,\n",
       "        92.647,  86.765,  91.176,  91.304,  94.203,  88.406,  98.529,\n",
       "        95.588,  97.059,  91.176,  89.706,  85.294,  89.706,  97.101,\n",
       "        92.754,  94.203,  92.647,  92.647,  91.176,  88.235,  97.059,\n",
       "        94.118,  88.235,  92.754,  95.652,  89.855,  94.118,  88.235,\n",
       "        91.176,  94.118,  92.647,  94.118,  91.176,  91.304,  88.406,\n",
       "        91.304,  92.647,  91.176,  85.294,  92.647,  97.059,  92.647,\n",
       "        95.588,  84.058,  97.101,  94.203,  95.588,  91.176,  92.647,\n",
       "        92.647,  91.176,  89.706,  89.706,  89.855,  92.754,  91.304,\n",
       "        94.118,  89.706,  92.647,  91.176,  98.529,  86.765,  95.588,\n",
       "        91.304,  92.754,  97.101,  94.118,  86.765,  98.529,  91.176,\n",
       "        82.353,  94.118,  97.059,  88.406,  86.957,  91.304,  94.118,\n",
       "        97.059,  92.647,  92.647,  89.706,  92.647,  94.118,  94.203,\n",
       "        94.203,  92.754,  95.588,  89.706,  88.235,  94.118,  94.118,\n",
       "        88.235,  91.176])"
      ]
     },
     "execution_count": 21,
     "metadata": {},
     "output_type": "execute_result"
    }
   ],
   "source": [
    "data.get_data(\"nbc\", \"sonar\")"
   ]
  },
  {
   "cell_type": "markdown",
   "metadata": {},
   "source": [
    "The data was collected with 10 runs of 10-fold cross-validation. To get a single number, we add a keyword argument `aggregate`."
   ]
  },
  {
   "cell_type": "code",
   "execution_count": 22,
   "metadata": {},
   "outputs": [
    {
     "data": {
      "text/plain": [
       "array(92.19582000000003)"
      ]
     },
     "execution_count": 22,
     "metadata": {},
     "output_type": "execute_result"
    }
   ],
   "source": [
    "data.get_data(\"nbc\", \"sonar\", aggregate=True)"
   ]
  },
  {
   "cell_type": "markdown",
   "metadata": {},
   "source": [
    "The first two arguments can be a name of a classifier or a data set, a sequence of names, or `...`. The latter is the default, and gives the data for all classifiers or data sets."
   ]
  },
  {
   "cell_type": "code",
   "execution_count": 23,
   "metadata": {},
   "outputs": [
    {
     "data": {
      "text/plain": [
       "array([[ 92.19582,  98.70582,  58.78783,  96.38929],\n",
       "       [ 93.30815,  98.2058 ,  75.69693,  96.73215]])"
      ]
     },
     "execution_count": 23,
     "metadata": {},
     "output_type": "execute_result"
    }
   ],
   "source": [
    "data.get_data((\"nbc\", \"aode\"), (\"sonar\", \"wine\", \"tae\", \"monks3\"), aggregate=True)"
   ]
  },
  {
   "cell_type": "code",
   "execution_count": 24,
   "metadata": {},
   "outputs": [
    {
     "data": {
      "text/plain": [
       "array([ 95.94595,  71.39521,  83.3377 ,  49.98591,  76.16673,  86.21744,\n",
       "        86.21744,  81.87252,  52.8114 ,  75.04   ,  71.93504,  50.12499,\n",
       "        72.03123,  60.     ,  83.6875 ,  84.36091,  98.31118,  89.40237,\n",
       "        93.33322,  87.79086,  87.59993,  56.84723,  85.09998,  62.66532,\n",
       "        74.63639,  96.38929,  95.76072,  90.29939,  92.16903,  93.37478,\n",
       "        80.41671,  87.72004,  75.26002,  68.11142,  47.19786,  91.14715,\n",
       "        85.59372,  86.62217,  93.81435,  76.71185,  92.19582,  89.82622,\n",
       "        79.21932,  95.41686,  59.03334,  62.06667,  46.32085,  58.78783,\n",
       "        79.968  ,  64.92861,  98.70582,  97.19638,  57.61428,  93.98181])"
      ]
     },
     "execution_count": 24,
     "metadata": {},
     "output_type": "execute_result"
    }
   ],
   "source": [
    "data.get_data(\"nbc\", aggregate=True)"
   ]
  },
  {
   "cell_type": "markdown",
   "metadata": {},
   "source": [
    "The module reads the data from a file *accuracies.txt*, which has a rather obvious format (check it). You can easily adapt the module to read your data instead."
   ]
  },
  {
   "cell_type": "code",
   "execution_count": null,
   "metadata": {},
   "outputs": [],
   "source": []
  }
 ],
 "metadata": {
  "kernelspec": {
   "display_name": "Python 3",
   "language": "python",
   "name": "python3"
  },
  "language_info": {
   "codemirror_mode": {
    "name": "ipython",
    "version": 3
   },
   "file_extension": ".py",
   "mimetype": "text/x-python",
   "name": "python",
   "nbconvert_exporter": "python",
   "pygments_lexer": "ipython3",
   "version": "3.6.4"
  }
 },
 "nbformat": 4,
 "nbformat_minor": 2
}
